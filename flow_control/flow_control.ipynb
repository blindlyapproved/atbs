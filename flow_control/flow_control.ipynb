{
 "cells": [
  {
   "cell_type": "code",
   "execution_count": 2,
   "metadata": {},
   "outputs": [
    {
     "name": "stdout",
     "output_type": "stream",
     "text": [
      "Enter a name\n",
      "\n",
      "You did not enter a name\n"
     ]
    }
   ],
   "source": [
    "# Truthy and falsey values\n",
    "\n",
    "# Enter no value, and the else block will be exeuted\n",
    "\n",
    "print(\"Enter a name\")\n",
    "name = input()\n",
    "\n",
    "if name:\n",
    "    print(\"Thanks for entering a name\")\n",
    "else:\n",
    "    print(\"You did not enter a name\")"
   ]
  },
  {
   "cell_type": "code",
   "execution_count": 6,
   "metadata": {},
   "outputs": [
    {
     "data": {
      "text/plain": [
       "False"
      ]
     },
     "execution_count": 6,
     "metadata": {},
     "output_type": "execute_result"
    }
   ],
   "source": [
    "bool(0) # falsy"
   ]
  },
  {
   "cell_type": "code",
   "execution_count": 7,
   "metadata": {},
   "outputs": [
    {
     "data": {
      "text/plain": [
       "False"
      ]
     },
     "execution_count": 7,
     "metadata": {},
     "output_type": "execute_result"
    }
   ],
   "source": [
    "bool(0.0) # falsy"
   ]
  },
  {
   "cell_type": "code",
   "execution_count": 5,
   "metadata": {},
   "outputs": [
    {
     "data": {
      "text/plain": [
       "True"
      ]
     },
     "execution_count": 5,
     "metadata": {},
     "output_type": "execute_result"
    }
   ],
   "source": [
    "bool(1)"
   ]
  },
  {
   "cell_type": "code",
   "execution_count": null,
   "metadata": {},
   "outputs": [],
   "source": [
    "# The problem is here that we'll continue looping through while name... until the specific condition of \"your name\" is met\n",
    "\n",
    "name = \"\"\n",
    "while name != \"your name\":\n",
    "    print(\"Please enter your name\")\n",
    "    name = input()\n",
    "print(\"Thanks\")"
   ]
  },
  {
   "cell_type": "code",
   "execution_count": 12,
   "metadata": {},
   "outputs": [
    {
     "name": "stdout",
     "output_type": "stream",
     "text": [
      "Please enter your name\n",
      "your name\n",
      "Thanks\n"
     ]
    }
   ],
   "source": [
    "# You can break the loop...\n",
    "\n",
    "name = \"\"\n",
    "while True:\n",
    "    print(\"Please enter your name\")\n",
    "    name = input()\n",
    "    if name == \"your name\":\n",
    "        break\n",
    "print(\"Thanks\")"
   ]
  },
  {
   "cell_type": "code",
   "execution_count": 15,
   "metadata": {},
   "outputs": [
    {
     "name": "stdout",
     "output_type": "stream",
     "text": [
      "spam is 1\n",
      "spam is 2\n",
      "spam is 4\n",
      "spam is 5\n"
     ]
    }
   ],
   "source": [
    "spam = 0\n",
    "while spam < 5:\n",
    "    spam = spam + 1\n",
    "    if spam == 3:\n",
    "        continue\n",
    "    print(\"spam is \" + str(spam))"
   ]
  },
  {
   "cell_type": "code",
   "execution_count": 16,
   "metadata": {},
   "outputs": [
    {
     "name": "stdout",
     "output_type": "stream",
     "text": [
      "My name is\n",
      "Jimmy five time 0\n",
      "Jimmy five time 1\n",
      "Jimmy five time 2\n",
      "Jimmy five time 3\n",
      "Jimmy five time 4\n"
     ]
    }
   ],
   "source": [
    "print(\"My name is\")\n",
    "for i in range(5):\n",
    "    print(\"Jimmy five time \" + str(i))"
   ]
  },
  {
   "cell_type": "code",
   "execution_count": 17,
   "metadata": {},
   "outputs": [
    {
     "name": "stdout",
     "output_type": "stream",
     "text": [
      "5050\n"
     ]
    }
   ],
   "source": [
    "total = 0\n",
    "for num in range(101):\n",
    "    total = total + num\n",
    "print(total)"
   ]
  },
  {
   "cell_type": "code",
   "execution_count": null,
   "metadata": {},
   "outputs": [],
   "source": []
  },
  {
   "cell_type": "code",
   "execution_count": null,
   "metadata": {},
   "outputs": [],
   "source": []
  }
 ],
 "metadata": {
  "kernelspec": {
   "display_name": "Python 3",
   "language": "python",
   "name": "python3"
  },
  "language_info": {
   "codemirror_mode": {
    "name": "ipython",
    "version": 3
   },
   "file_extension": ".py",
   "mimetype": "text/x-python",
   "name": "python",
   "nbconvert_exporter": "python",
   "pygments_lexer": "ipython3",
   "version": "3.7.6"
  }
 },
 "nbformat": 4,
 "nbformat_minor": 4
}
