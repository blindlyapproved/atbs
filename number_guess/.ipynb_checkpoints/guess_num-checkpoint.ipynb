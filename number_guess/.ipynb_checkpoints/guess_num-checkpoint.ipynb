{
 "cells": [
  {
   "cell_type": "code",
   "execution_count": 24,
   "metadata": {},
   "outputs": [
    {
     "name": "stdout",
     "output_type": "stream",
     "text": [
      "Hello what's your name?\n",
      "luuk\n",
      "\n",
      "Hi there, luuk\n",
      "\n",
      "This is guessing game. I'm thinking of a number between 1 and 20, you need to guess it.\n",
      "\n",
      "Take a guess\n",
      "l\n"
     ]
    },
    {
     "ename": "ValueError",
     "evalue": "invalid literal for int() with base 10: 'l'",
     "output_type": "error",
     "traceback": [
      "\u001b[0;31m---------------------------------------------------------------------------\u001b[0m",
      "\u001b[0;31mValueError\u001b[0m                                Traceback (most recent call last)",
      "\u001b[0;32m<ipython-input-24-86b49446f620>\u001b[0m in \u001b[0;36m<module>\u001b[0;34m\u001b[0m\n\u001b[1;32m     13\u001b[0m \u001b[0;32mfor\u001b[0m \u001b[0mguesses\u001b[0m \u001b[0;32min\u001b[0m \u001b[0mrange\u001b[0m\u001b[0;34m(\u001b[0m\u001b[0;36m1\u001b[0m\u001b[0;34m,\u001b[0m\u001b[0;36m7\u001b[0m\u001b[0;34m)\u001b[0m\u001b[0;34m:\u001b[0m\u001b[0;34m\u001b[0m\u001b[0;34m\u001b[0m\u001b[0m\n\u001b[1;32m     14\u001b[0m     \u001b[0mprint\u001b[0m\u001b[0;34m(\u001b[0m\u001b[0;34m\"\\nTake a guess\"\u001b[0m\u001b[0;34m)\u001b[0m\u001b[0;34m\u001b[0m\u001b[0;34m\u001b[0m\u001b[0m\n\u001b[0;32m---> 15\u001b[0;31m     \u001b[0mguess\u001b[0m \u001b[0;34m=\u001b[0m \u001b[0mint\u001b[0m\u001b[0;34m(\u001b[0m\u001b[0minput\u001b[0m\u001b[0;34m(\u001b[0m\u001b[0;34m)\u001b[0m\u001b[0;34m)\u001b[0m\u001b[0;34m\u001b[0m\u001b[0;34m\u001b[0m\u001b[0m\n\u001b[0m\u001b[1;32m     16\u001b[0m \u001b[0;34m\u001b[0m\u001b[0m\n\u001b[1;32m     17\u001b[0m \u001b[0;34m\u001b[0m\u001b[0m\n",
      "\u001b[0;31mValueError\u001b[0m: invalid literal for int() with base 10: 'l'"
     ]
    }
   ],
   "source": [
    "# Player must guess secret number between 1 and 20\n",
    "\n",
    "import random\n",
    "secret_num = random.randint(1,20)\n",
    "\n",
    "# Game start\n",
    "print(\"Hello what's your name?\")\n",
    "name = input()\n",
    "print(\"\\nHi there, \" + name)\n",
    "\n",
    "print(\"\\nThis is guessing game. I'm thinking of a number between 1 and 20, you need to guess it.\")\n",
    "\n",
    "for guesses in range(1,7):\n",
    "    print(\"\\nTake a guess\")\n",
    "    \n",
    "    try:\n",
    "        guess = int(input())\n",
    "    except ValueError:\n",
    "    print(\"Put a number...\")\n",
    "    \n",
    "        if guess < secret_num:\n",
    "            print(\"\\nGuess higher\")\n",
    "        elif guess > secret_num:\n",
    "            print(\"\\nGuess lower\")\n",
    "        else:\n",
    "            break\n",
    "        \n",
    "if guess == secret_num:\n",
    "    print(\"Congrats, you guessed it in \" + str(guesses) + \" guesses\")\n",
    "else:\n",
    "    print(\"Too bad, you didn't guess the number:\" + str(secret_num))"
   ]
  },
  {
   "cell_type": "markdown",
   "metadata": {},
   "source": []
  }
 ],
 "metadata": {
  "kernelspec": {
   "display_name": "Python 3",
   "language": "python",
   "name": "python3"
  },
  "language_info": {
   "codemirror_mode": {
    "name": "ipython",
    "version": 3
   },
   "file_extension": ".py",
   "mimetype": "text/x-python",
   "name": "python",
   "nbconvert_exporter": "python",
   "pygments_lexer": "ipython3",
   "version": "3.7.6"
  }
 },
 "nbformat": 4,
 "nbformat_minor": 4
}
