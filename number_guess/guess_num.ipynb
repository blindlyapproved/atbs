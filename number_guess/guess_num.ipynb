{
 "cells": [
  {
   "cell_type": "code",
   "execution_count": 27,
   "metadata": {},
   "outputs": [
    {
     "name": "stdout",
     "output_type": "stream",
     "text": [
      "Hello what's your name?\n",
      "Luuk\n",
      "\n",
      "Hi there, Luuk\n",
      "\n",
      "This is guessing game. I'm thinking of a number between 1 and 20, you need to guess it.\n",
      "\n",
      "Take a guess\n",
      "1\n",
      "\n",
      "Guess higher\n",
      "\n",
      "Take a guess\n",
      "l\n",
      "Put a number...\n",
      "\n",
      "Guess higher\n",
      "\n",
      "Take a guess\n",
      "10\n",
      "\n",
      "Guess lower\n",
      "\n",
      "Take a guess\n",
      "5\n",
      "\n",
      "Guess higher\n",
      "\n",
      "Take a guess\n",
      "7\n",
      "\n",
      "Guess higher\n",
      "\n",
      "Take a guess\n",
      "8\n",
      "Congrats, you guessed it in 6 guesses\n"
     ]
    }
   ],
   "source": [
    "# Player must guess secret number between 1 and 20\n",
    "\n",
    "import random\n",
    "secret_num = random.randint(1,20)\n",
    "\n",
    "# Game start\n",
    "print(\"Hello what's your name?\")\n",
    "name = input()\n",
    "print(\"\\nHi there, \" + name)\n",
    "\n",
    "print(\"\\nThis is guessing game. I'm thinking of a number between 1 and 20, you need to guess it.\")\n",
    "\n",
    "for guesses in range(1,7):\n",
    "    print(\"\\nTake a guess\")\n",
    "    \n",
    "    try:\n",
    "        guess = int(input())\n",
    "    except ValueError:\n",
    "        print(\"Put a number...\")\n",
    "    \n",
    "    if guess < secret_num:\n",
    "        print(\"\\nGuess higher\")\n",
    "    elif guess > secret_num:\n",
    "        print(\"\\nGuess lower\")\n",
    "    else:\n",
    "        break\n",
    "        \n",
    "if guess == secret_num:\n",
    "    print(\"Congrats, you guessed it in \" + str(guesses) + \" guesses\")\n",
    "else:\n",
    "    print(\"Too bad, you didn't guess the number:\" + str(secret_num))"
   ]
  },
  {
   "cell_type": "markdown",
   "metadata": {},
   "source": []
  }
 ],
 "metadata": {
  "kernelspec": {
   "display_name": "Python 3",
   "language": "python",
   "name": "python3"
  },
  "language_info": {
   "codemirror_mode": {
    "name": "ipython",
    "version": 3
   },
   "file_extension": ".py",
   "mimetype": "text/x-python",
   "name": "python",
   "nbconvert_exporter": "python",
   "pygments_lexer": "ipython3",
   "version": "3.7.6"
  }
 },
 "nbformat": 4,
 "nbformat_minor": 4
}
