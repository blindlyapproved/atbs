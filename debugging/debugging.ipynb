{
 "cells": [
  {
   "cell_type": "code",
   "execution_count": 1,
   "metadata": {},
   "outputs": [
    {
     "ename": "Exception",
     "evalue": "This is the error message",
     "output_type": "error",
     "traceback": [
      "\u001b[0;31m---------------------------------------------------------------------------\u001b[0m",
      "\u001b[0;31mException\u001b[0m                                 Traceback (most recent call last)",
      "\u001b[0;32m<ipython-input-1-275e10cb6c45>\u001b[0m in \u001b[0;36m<module>\u001b[0;34m\u001b[0m\n\u001b[0;32m----> 1\u001b[0;31m \u001b[0;32mraise\u001b[0m \u001b[0mException\u001b[0m\u001b[0;34m(\u001b[0m\u001b[0;34m\"This is the error message\"\u001b[0m\u001b[0;34m)\u001b[0m\u001b[0;34m\u001b[0m\u001b[0;34m\u001b[0m\u001b[0m\n\u001b[0m",
      "\u001b[0;31mException\u001b[0m: This is the error message"
     ]
    }
   ],
   "source": [
    "raise Exception(\"This is the error message\")"
   ]
  },
  {
   "cell_type": "code",
   "execution_count": 5,
   "metadata": {},
   "outputs": [
    {
     "name": "stdout",
     "output_type": "stream",
     "text": [
      "***************\n",
      "*             *\n",
      "*             *\n",
      "*             *\n",
      "***************\n"
     ]
    }
   ],
   "source": [
    "\"\"\"\n",
    "****************\n",
    "*              *\n",
    "*              *\n",
    "*              *\n",
    "*              *\n",
    "****************\n",
    "\"\"\"\n",
    "\n",
    "\n",
    "def box_print(symbol, width, height):\n",
    "    print(symbol * width)\n",
    "    \n",
    "    for i in range(height - 2):\n",
    "        print(symbol + (\" \" * (width -2)) + symbol)\n",
    "        \n",
    "    print(symbol * width)\n",
    "    \n",
    "box_print(\"*\", 15, 5)"
   ]
  },
  {
   "cell_type": "code",
   "execution_count": 6,
   "metadata": {},
   "outputs": [
    {
     "name": "stdout",
     "output_type": "stream",
     "text": [
      "******************************\n",
      "**             **\n",
      "**             **\n",
      "**             **\n",
      "******************************\n"
     ]
    }
   ],
   "source": [
    "box_print(\"**\", 15, 5)"
   ]
  },
  {
   "cell_type": "code",
   "execution_count": 7,
   "metadata": {},
   "outputs": [
    {
     "name": "stdout",
     "output_type": "stream",
     "text": [
      "***************\n",
      "*             *\n",
      "*             *\n",
      "*             *\n",
      "***************\n"
     ]
    }
   ],
   "source": [
    "def box_print(symbol, width, height):\n",
    "    if len(symbol) != 1:\n",
    "        raise Exception(\"Symbol can only take 1 arg\")\n",
    "    print(symbol * width)\n",
    "    \n",
    "    for i in range(height - 2):\n",
    "        print(symbol + (\" \" * (width -2)) + symbol)\n",
    "        \n",
    "    print(symbol * width)\n",
    "    \n",
    "box_print(\"*\", 15, 5)"
   ]
  },
  {
   "cell_type": "code",
   "execution_count": 8,
   "metadata": {},
   "outputs": [
    {
     "ename": "Exception",
     "evalue": "Symbol can only take 1 arg",
     "output_type": "error",
     "traceback": [
      "\u001b[0;31m---------------------------------------------------------------------------\u001b[0m",
      "\u001b[0;31mException\u001b[0m                                 Traceback (most recent call last)",
      "\u001b[0;32m<ipython-input-8-0aaae539d42c>\u001b[0m in \u001b[0;36m<module>\u001b[0;34m\u001b[0m\n\u001b[0;32m----> 1\u001b[0;31m \u001b[0mbox_print\u001b[0m\u001b[0;34m(\u001b[0m\u001b[0;34m\"**\"\u001b[0m\u001b[0;34m,\u001b[0m \u001b[0;36m15\u001b[0m\u001b[0;34m,\u001b[0m \u001b[0;36m5\u001b[0m\u001b[0;34m)\u001b[0m\u001b[0;34m\u001b[0m\u001b[0;34m\u001b[0m\u001b[0m\n\u001b[0m",
      "\u001b[0;32m<ipython-input-7-57da88f9bf1c>\u001b[0m in \u001b[0;36mbox_print\u001b[0;34m(symbol, width, height)\u001b[0m\n\u001b[1;32m      1\u001b[0m \u001b[0;32mdef\u001b[0m \u001b[0mbox_print\u001b[0m\u001b[0;34m(\u001b[0m\u001b[0msymbol\u001b[0m\u001b[0;34m,\u001b[0m \u001b[0mwidth\u001b[0m\u001b[0;34m,\u001b[0m \u001b[0mheight\u001b[0m\u001b[0;34m)\u001b[0m\u001b[0;34m:\u001b[0m\u001b[0;34m\u001b[0m\u001b[0;34m\u001b[0m\u001b[0m\n\u001b[1;32m      2\u001b[0m     \u001b[0;32mif\u001b[0m \u001b[0mlen\u001b[0m\u001b[0;34m(\u001b[0m\u001b[0msymbol\u001b[0m\u001b[0;34m)\u001b[0m \u001b[0;34m!=\u001b[0m \u001b[0;36m1\u001b[0m\u001b[0;34m:\u001b[0m\u001b[0;34m\u001b[0m\u001b[0;34m\u001b[0m\u001b[0m\n\u001b[0;32m----> 3\u001b[0;31m         \u001b[0;32mraise\u001b[0m \u001b[0mException\u001b[0m\u001b[0;34m(\u001b[0m\u001b[0;34m\"Symbol can only take 1 arg\"\u001b[0m\u001b[0;34m)\u001b[0m\u001b[0;34m\u001b[0m\u001b[0;34m\u001b[0m\u001b[0m\n\u001b[0m\u001b[1;32m      4\u001b[0m     \u001b[0mprint\u001b[0m\u001b[0;34m(\u001b[0m\u001b[0msymbol\u001b[0m \u001b[0;34m*\u001b[0m \u001b[0mwidth\u001b[0m\u001b[0;34m)\u001b[0m\u001b[0;34m\u001b[0m\u001b[0;34m\u001b[0m\u001b[0m\n\u001b[1;32m      5\u001b[0m \u001b[0;34m\u001b[0m\u001b[0m\n",
      "\u001b[0;31mException\u001b[0m: Symbol can only take 1 arg"
     ]
    }
   ],
   "source": [
    "box_print(\"**\", 15, 5)"
   ]
  },
  {
   "cell_type": "code",
   "execution_count": 9,
   "metadata": {},
   "outputs": [
    {
     "ename": "AssertionError",
     "evalue": "Error message",
     "output_type": "error",
     "traceback": [
      "\u001b[0;31m---------------------------------------------------------------------------\u001b[0m",
      "\u001b[0;31mAssertionError\u001b[0m                            Traceback (most recent call last)",
      "\u001b[0;32m<ipython-input-9-7c0d60bb1444>\u001b[0m in \u001b[0;36m<module>\u001b[0;34m\u001b[0m\n\u001b[0;32m----> 1\u001b[0;31m \u001b[0;32massert\u001b[0m \u001b[0;32mFalse\u001b[0m\u001b[0;34m,\u001b[0m \u001b[0;34m\"Error message\"\u001b[0m\u001b[0;34m\u001b[0m\u001b[0;34m\u001b[0m\u001b[0m\n\u001b[0m",
      "\u001b[0;31mAssertionError\u001b[0m: Error message"
     ]
    }
   ],
   "source": [
    "assert False, \"Error message\""
   ]
  },
  {
   "cell_type": "code",
   "execution_count": 17,
   "metadata": {},
   "outputs": [
    {
     "ename": "AssertionError",
     "evalue": "Neither light is red{'ns': 'yellow', 'ew': 'green'}",
     "output_type": "error",
     "traceback": [
      "\u001b[0;31m---------------------------------------------------------------------------\u001b[0m",
      "\u001b[0;31mAssertionError\u001b[0m                            Traceback (most recent call last)",
      "\u001b[0;32m<ipython-input-17-1a994511959c>\u001b[0m in \u001b[0;36m<module>\u001b[0;34m\u001b[0m\n\u001b[1;32m     12\u001b[0m \u001b[0;34m\u001b[0m\u001b[0m\n\u001b[1;32m     13\u001b[0m \u001b[0;34m\u001b[0m\u001b[0m\n\u001b[0;32m---> 14\u001b[0;31m \u001b[0mswitch_lights\u001b[0m\u001b[0;34m(\u001b[0m\u001b[0mmarket_2nd\u001b[0m\u001b[0;34m)\u001b[0m\u001b[0;34m\u001b[0m\u001b[0;34m\u001b[0m\u001b[0m\n\u001b[0m",
      "\u001b[0;32m<ipython-input-17-1a994511959c>\u001b[0m in \u001b[0;36mswitch_lights\u001b[0;34m(intersection)\u001b[0m\n\u001b[1;32m      9\u001b[0m         \u001b[0;32melif\u001b[0m \u001b[0mintersection\u001b[0m\u001b[0;34m[\u001b[0m\u001b[0mkey\u001b[0m\u001b[0;34m]\u001b[0m \u001b[0;34m==\u001b[0m \u001b[0;34m\"red\"\u001b[0m\u001b[0;34m:\u001b[0m\u001b[0;34m\u001b[0m\u001b[0;34m\u001b[0m\u001b[0m\n\u001b[1;32m     10\u001b[0m             \u001b[0mintersection\u001b[0m\u001b[0;34m[\u001b[0m\u001b[0mkey\u001b[0m\u001b[0;34m]\u001b[0m \u001b[0;34m=\u001b[0m \u001b[0;34m\"green\"\u001b[0m\u001b[0;34m\u001b[0m\u001b[0;34m\u001b[0m\u001b[0m\n\u001b[0;32m---> 11\u001b[0;31m     \u001b[0;32massert\u001b[0m \u001b[0;34m\"red\"\u001b[0m \u001b[0;32min\u001b[0m \u001b[0mintersection\u001b[0m\u001b[0;34m.\u001b[0m\u001b[0mvalues\u001b[0m\u001b[0;34m(\u001b[0m\u001b[0;34m)\u001b[0m\u001b[0;34m,\u001b[0m \u001b[0;34m\"Neither light is red\"\u001b[0m \u001b[0;34m+\u001b[0m \u001b[0mstr\u001b[0m\u001b[0;34m(\u001b[0m\u001b[0mintersection\u001b[0m\u001b[0;34m)\u001b[0m\u001b[0;34m\u001b[0m\u001b[0;34m\u001b[0m\u001b[0m\n\u001b[0m\u001b[1;32m     12\u001b[0m \u001b[0;34m\u001b[0m\u001b[0m\n\u001b[1;32m     13\u001b[0m \u001b[0;34m\u001b[0m\u001b[0m\n",
      "\u001b[0;31mAssertionError\u001b[0m: Neither light is red{'ns': 'yellow', 'ew': 'green'}"
     ]
    }
   ],
   "source": [
    "market_2nd = {\"ns\": \"green\", \"ew\":\"red\"}\n",
    "\n",
    "def switch_lights(intersection):\n",
    "    for key in intersection.keys():\n",
    "        if intersection[key] == \"green\":\n",
    "            intersection[key] = \"yellow\"\n",
    "        elif intersection[key] == \"yellow\":\n",
    "            intersection[key] = \"red\"\n",
    "        elif intersection[key] == \"red\":\n",
    "            intersection[key] = \"green\"\n",
    "    assert \"red\" in intersection.values(), \"Neither light is red\" + str(intersection)\n",
    "            \n",
    "\n",
    "switch_lights(market_2nd)\n"
   ]
  },
  {
   "cell_type": "code",
   "execution_count": 18,
   "metadata": {},
   "outputs": [],
   "source": [
    "import logging"
   ]
  },
  {
   "cell_type": "code",
   "execution_count": 19,
   "metadata": {},
   "outputs": [],
   "source": [
    "logging.basicConfig(level=logging.DEBUG, format=\"%(asctime)s - %(levelname)s - %(message)s \")"
   ]
  },
  {
   "cell_type": "code",
   "execution_count": 22,
   "metadata": {},
   "outputs": [
    {
     "name": "stderr",
     "output_type": "stream",
     "text": [
      "2020-07-26 16:50:42,167 - DEBUG - start \n",
      "2020-07-26 16:50:42,170 - DEBUG - start fact(5) \n",
      "2020-07-26 16:50:42,172 - DEBUG - i is 0, total is 0 \n",
      "2020-07-26 16:50:42,173 - DEBUG - i is 1, total is 0 \n",
      "2020-07-26 16:50:42,173 - DEBUG - i is 2, total is 0 \n",
      "2020-07-26 16:50:42,174 - DEBUG - i is 3, total is 0 \n",
      "2020-07-26 16:50:42,175 - DEBUG - i is 4, total is 0 \n",
      "2020-07-26 16:50:42,176 - DEBUG - i is 5, total is 0 \n",
      "2020-07-26 16:50:42,177 - DEBUG - Return value is 0 \n",
      "2020-07-26 16:50:42,179 - DEBUG - end \n"
     ]
    },
    {
     "name": "stdout",
     "output_type": "stream",
     "text": [
      "0\n"
     ]
    }
   ],
   "source": [
    "import logging\n",
    "logging.basicConfig(level=logging.DEBUG, format=\"%(asctime)s - %(levelname)s - %(message)s \")\n",
    "\n",
    "logging.debug(\"start\")\n",
    "\n",
    "\n",
    "def fact(n):\n",
    "    logging.debug(\"start fact(%s)\" % (n))\n",
    "    total = 1\n",
    "    for i in range(n + 1):\n",
    "        total *= i\n",
    "        logging.debug(\"i is %s, total is %s\" % (i, total))\n",
    "    logging.debug(\"Return value is %s\" % (total))\n",
    "    return total\n",
    "\n",
    "print(fact(5))\n",
    "\n",
    "logging.debug(\"end\")"
   ]
  },
  {
   "cell_type": "code",
   "execution_count": 25,
   "metadata": {},
   "outputs": [
    {
     "name": "stderr",
     "output_type": "stream",
     "text": [
      "2020-07-26 16:52:56,555 - DEBUG - start \n",
      "2020-07-26 16:52:56,557 - DEBUG - start fact(5) \n",
      "2020-07-26 16:52:56,562 - DEBUG - i is 1, total is 1 \n",
      "2020-07-26 16:52:56,563 - DEBUG - i is 2, total is 2 \n",
      "2020-07-26 16:52:56,566 - DEBUG - i is 3, total is 6 \n",
      "2020-07-26 16:52:56,567 - DEBUG - i is 4, total is 24 \n",
      "2020-07-26 16:52:56,575 - DEBUG - i is 5, total is 120 \n",
      "2020-07-26 16:52:56,578 - DEBUG - Return value is 120 \n",
      "2020-07-26 16:52:56,580 - DEBUG - end \n"
     ]
    },
    {
     "name": "stdout",
     "output_type": "stream",
     "text": [
      "120\n"
     ]
    }
   ],
   "source": [
    "import logging\n",
    "logging.basicConfig(level=logging.DEBUG, format=\"%(asctime)s - %(levelname)s - %(message)s \")\n",
    "#logging.disable(logging.CRITICAL)\n",
    "\n",
    "logging.debug(\"start\")\n",
    "\n",
    "\n",
    "def fact(n):\n",
    "    logging.debug(\"start fact(%s)\" % (n))\n",
    "    total = 1\n",
    "    for i in range(1, n + 1):\n",
    "        total *= i\n",
    "        logging.debug(\"i is %s, total is %s\" % (i, total))\n",
    "    logging.debug(\"Return value is %s\" % (total))\n",
    "    return total\n",
    "\n",
    "print(fact(5))\n",
    "\n",
    "logging.debug(\"end\")"
   ]
  },
  {
   "cell_type": "code",
   "execution_count": 30,
   "metadata": {},
   "outputs": [
    {
     "name": "stderr",
     "output_type": "stream",
     "text": [
      "2020-07-26 16:57:43,674 - DEBUG - start \n",
      "2020-07-26 16:57:43,676 - DEBUG - start fact(5) \n",
      "2020-07-26 16:57:43,678 - DEBUG - i is 1, total is 1 \n",
      "2020-07-26 16:57:43,680 - DEBUG - i is 2, total is 2 \n",
      "2020-07-26 16:57:43,681 - DEBUG - i is 3, total is 6 \n",
      "2020-07-26 16:57:43,687 - DEBUG - i is 4, total is 24 \n",
      "2020-07-26 16:57:43,689 - DEBUG - i is 5, total is 120 \n",
      "2020-07-26 16:57:43,690 - DEBUG - Return value is 120 \n",
      "2020-07-26 16:57:43,691 - DEBUG - end \n"
     ]
    },
    {
     "name": "stdout",
     "output_type": "stream",
     "text": [
      "120\n"
     ]
    }
   ],
   "source": [
    "# Logging to a file\n",
    "import logging\n",
    "logging.basicConfig(filename=\"logs.txt\", level=logging.DEBUG, format=\"%(asctime)s - %(levelname)s - %(message)s \")\n",
    "#logging.disable(logging.CRITICAL)\n",
    "\n",
    "logging.debug(\"start\")\n",
    "\n",
    "\n",
    "def fact(n):\n",
    "    logging.debug(\"start fact(%s)\" % (n))\n",
    "    total = 1\n",
    "    for i in range(1, n + 1):\n",
    "        total *= i\n",
    "        logging.debug(\"i is %s, total is %s\" % (i, total))\n",
    "    logging.debug(\"Return value is %s\" % (total))\n",
    "    return total\n",
    "\n",
    "print(fact(5))\n",
    "\n",
    "logging.debug(\"end\")"
   ]
  },
  {
   "cell_type": "code",
   "execution_count": null,
   "metadata": {},
   "outputs": [],
   "source": []
  },
  {
   "cell_type": "code",
   "execution_count": null,
   "metadata": {},
   "outputs": [],
   "source": []
  }
 ],
 "metadata": {
  "kernelspec": {
   "display_name": "Python 3",
   "language": "python",
   "name": "python3"
  },
  "language_info": {
   "codemirror_mode": {
    "name": "ipython",
    "version": 3
   },
   "file_extension": ".py",
   "mimetype": "text/x-python",
   "name": "python",
   "nbconvert_exporter": "python",
   "pygments_lexer": "ipython3",
   "version": "3.7.6"
  }
 },
 "nbformat": 4,
 "nbformat_minor": 4
}
